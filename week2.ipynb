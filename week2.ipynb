{
 "cells": [
  {
   "cell_type": "markdown",
   "metadata": {},
   "source": [
    "# Week 2"
   ]
  },
  {
   "cell_type": "code",
   "execution_count": 2,
   "metadata": {},
   "outputs": [],
   "source": [
    "# Setup\n",
    "import numpy as np"
   ]
  },
  {
   "cell_type": "markdown",
   "metadata": {},
   "source": [
    "## Multiple linear regression"
   ]
  },
  {
   "cell_type": "markdown",
   "metadata": {},
   "source": [
    "When using multiple features (independent variables) it is better if you use vectors (np.array) for both w and x\n",
    "This way you can use the dot product (w . x) to have the sum of the multiplication of all features"
   ]
  },
  {
   "cell_type": "markdown",
   "metadata": {},
   "source": [
    "### Vectorization"
   ]
  },
  {
   "cell_type": "code",
   "execution_count": 12,
   "metadata": {},
   "outputs": [],
   "source": [
    "# load_data() : X, w, b\n",
    "def load_data():\n",
    "    X = np.array([10, 20, 30])\n",
    "    y = np.array([])\n",
    "    w = np.array([1.0, 2.5, -3.3])\n",
    "    b = 4\n",
    "    \n",
    "    return X, w, b\n",
    "\n",
    "X, w, b = load_data()"
   ]
  },
  {
   "cell_type": "markdown",
   "metadata": {},
   "source": [
    "##### Dot product\n",
    "Find the dot product of w . x to get the sum of it's products"
   ]
  },
  {
   "cell_type": "code",
   "execution_count": 13,
   "metadata": {},
   "outputs": [],
   "source": [
    "# hypothesis(x, w, b) : prediction (scalar)\n",
    "def hypothesis(x, w, b):\n",
    "    \"\"\"\n",
    "    Gets the predicted value, given the parameters\n",
    "    Args:\n",
    "        x (ndarray): Shape (m,) vector of all features on this row (example)\n",
    "        w (ndarray): Shape (m,) parameters for prediction\n",
    "        b (scalar):             parameter for prediction\n",
    "    Returns:\n",
    "        prediction (scalar):    prediction value\n",
    "    \"\"\"\n",
    "    h = np.dot(w, x) + b\n",
    "    return h"
   ]
  },
  {
   "cell_type": "markdown",
   "metadata": {},
   "source": [
    "### Compute Cost"
   ]
  },
  {
   "cell_type": "code",
   "execution_count": 14,
   "metadata": {},
   "outputs": [],
   "source": [
    "# compute_cost(X, y, w, b) : something\n",
    "def compute_cost(X, y, w, b):\n",
    "    \"\"\"\n",
    "    Computes cost\n",
    "    Args:\n",
    "        X (ndarray): Shape (m,n) matrix of examples with multiple features\n",
    "        y (ndarray): Shape (m,)  target value\n",
    "        w (ndarray): Shape (m,)  parameters for prediction\n",
    "        b (scalar):              parameter for prediction\n",
    "    Returns:\n",
    "        cost (scalar):           cost\n",
    "    \"\"\"\n",
    "    m = X.shape[0]\n",
    "    cost = 0.0\n",
    "\n",
    "    for i in range(m):\n",
    "        f_wb_i = hypothesis(x[i], w, b)\n",
    "        cost = cost + (f_wb_i - y[i])**2\n",
    "    \n",
    "    cost = cost/(2*m)\n",
    "\n",
    "    return np.squeeze(cost)"
   ]
  },
  {
   "cell_type": "code",
   "execution_count": null,
   "metadata": {},
   "outputs": [],
   "source": [
    "compute_cost(X, y)"
   ]
  },
  {
   "cell_type": "markdown",
   "metadata": {},
   "source": [
    "## Gradient descent in practice"
   ]
  }
 ],
 "metadata": {
  "kernelspec": {
   "display_name": "Python 3.10.2 ('venv': venv)",
   "language": "python",
   "name": "python3"
  },
  "language_info": {
   "codemirror_mode": {
    "name": "ipython",
    "version": 3
   },
   "file_extension": ".py",
   "mimetype": "text/x-python",
   "name": "python",
   "nbconvert_exporter": "python",
   "pygments_lexer": "ipython3",
   "version": "3.10.2"
  },
  "orig_nbformat": 4,
  "vscode": {
   "interpreter": {
    "hash": "7bb24251c19abd6c4b2ce584a08bf35f4dbea23d2a92290c6d4e12894ac26d25"
   }
  }
 },
 "nbformat": 4,
 "nbformat_minor": 2
}
