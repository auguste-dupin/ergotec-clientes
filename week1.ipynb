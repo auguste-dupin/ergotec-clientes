{
 "cells": [
  {
   "cell_type": "markdown",
   "metadata": {},
   "source": [
    "# Machine learning week 1"
   ]
  },
  {
   "cell_type": "markdown",
   "metadata": {},
   "source": [
    "## Setup"
   ]
  },
  {
   "cell_type": "code",
   "execution_count": 1,
   "metadata": {},
   "outputs": [],
   "source": [
    "import numpy as np\n",
    "import matplotlib.pyplot as plt\n",
    "# plt.style.use()"
   ]
  },
  {
   "cell_type": "markdown",
   "metadata": {},
   "source": [
    "## Regression"
   ]
  },
  {
   "cell_type": "markdown",
   "metadata": {},
   "source": [
    "### Get data"
   ]
  },
  {
   "cell_type": "code",
   "execution_count": 2,
   "metadata": {},
   "outputs": [],
   "source": [
    "x_train = np.array([1.0, 2.0])\n",
    "y_train = np.array([300, 500])"
   ]
  },
  {
   "cell_type": "code",
   "execution_count": 4,
   "metadata": {},
   "outputs": [
    {
     "name": "stdout",
     "output_type": "stream",
     "text": [
      "Number of training examples (m): 2\n"
     ]
    }
   ],
   "source": [
    "m = len(x_train)\n",
    "print(f'Number of training examples (m): {m}')"
   ]
  },
  {
   "cell_type": "markdown",
   "metadata": {},
   "source": [
    "### Plot data"
   ]
  },
  {
   "cell_type": "code",
   "execution_count": 6,
   "metadata": {},
   "outputs": [
    {
     "data": {
      "image/png": "[encoded data removed]",
      "text/plain": [
       "<Figure size 432x288 with 1 Axes>"
      ]
     },
     "metadata": {
      "needs_background": "light"
     },
     "output_type": "display_data"
    }
   ],
   "source": [
    "plt.scatter(x_train, y_train, marker='x', c='r')\n",
    "plt.title('Housing Prices')\n",
    "plt.ylabel('Price (1,000s of dollars)')\n",
    "plt.xlabel('Size (1,000 sqft)')\n",
    "plt.show()"
   ]
  },
  {
   "cell_type": "markdown",
   "metadata": {},
   "source": [
    "### Model function"
   ]
  },
  {
   "cell_type": "code",
   "execution_count": 8,
   "metadata": {},
   "outputs": [],
   "source": [
    "def calculate_model_output(w, b, x):\n",
    "    m = x.shape\n",
    "    f_wb = np.zeros(m)\n",
    "    \n",
    "    for i in range(len(x)):\n",
    "        f_wb[i] = w * x[i] + b\n",
    "    \n",
    "    return f_wb"
   ]
  },
  {
   "cell_type": "code",
   "execution_count": 12,
   "metadata": {},
   "outputs": [
    {
     "name": "stdout",
     "output_type": "stream",
     "text": [
      "w: 200\n",
      "b: 100\n"
     ]
    }
   ],
   "source": [
    "w = 200\n",
    "b = 100\n",
    "print(f'w: {w}')\n",
    "print(f'b: {b}')"
   ]
  },
  {
   "cell_type": "markdown",
   "metadata": {},
   "source": [
    "### Plot data and model"
   ]
  },
  {
   "cell_type": "code",
   "execution_count": 13,
   "metadata": {},
   "outputs": [
    {
     "data": {
      "image/png": "[encoded data removed]",
      "text/plain": [
       "<Figure size 432x288 with 1 Axes>"
      ]
     },
     "metadata": {
      "needs_background": "light"
     },
     "output_type": "display_data"
    }
   ],
   "source": [
    "tmp_f_wb = calculate_model_output(w, b, x_train)\n",
    "\n",
    "plt.plot(x_train,tmp_f_wb, c='b', label='Our Prediction')\n",
    "plt.scatter(x_train, y_train, marker='x', c='r', label='Actual Value')\n",
    "plt.title('Housing Prices')\n",
    "plt.ylabel('Price (1,000s of dollars)')\n",
    "plt.xlabel('Size (1,000 sqft)')\n",
    "plt.legend()\n",
    "plt.show()"
   ]
  },
  {
   "cell_type": "markdown",
   "metadata": {},
   "source": [
    "### Prediction"
   ]
  },
  {
   "cell_type": "code",
   "execution_count": 17,
   "metadata": {},
   "outputs": [
    {
     "name": "stdout",
     "output_type": "stream",
     "text": [
      "$340 thousand dollars\n"
     ]
    }
   ],
   "source": [
    "# Prediction\n",
    "w = 200\n",
    "b = 100\n",
    "cost_1200sqft = w * 1.2 + b\n",
    "\n",
    "print(f'${cost_1200sqft:.0f} thousand dollars')"
   ]
  },
  {
   "cell_type": "markdown",
   "metadata": {},
   "source": [
    "## Cost function"
   ]
  },
  {
   "cell_type": "markdown",
   "metadata": {},
   "source": [
    "#### Function to calculate the cost"
   ]
  },
  {
   "cell_type": "code",
   "execution_count": 23,
   "metadata": {},
   "outputs": [],
   "source": [
    "def compute_cost(x, y, w, b):\n",
    "    \"\"\"\n",
    "    Computes the cost for linear regression\n",
    "    Args:\n",
    "        x (ndarray): Shape (m,) variable such as house size\n",
    "        y (ndarray): Shape (m,) target value\n",
    "        w (scalar):             parameter of the model\n",
    "        b (scalar):             parameter of the model\n",
    "    Returns:\n",
    "        total_cost (scalar): cost\n",
    "    \"\"\"\n",
    "\n",
    "    m = len(x)\n",
    "    cost = 0\n",
    "\n",
    "    for i in range(m):\n",
    "        \n",
    "        # Calculate the model prediction\n",
    "        f_wb = w * x[i] + b\n",
    "\n",
    "        # Calculate cost\n",
    "        cost = cost + (f_wb - y[i])**2\n",
    "\n",
    "    total_cost = 1 / (2 * m) * cost\n",
    "\n",
    "    return total_cost"
   ]
  },
  {
   "cell_type": "code",
   "execution_count": 67,
   "metadata": {},
   "outputs": [],
   "source": [
    "J_hist = {}\n",
    "\n",
    "for i in range(400):\n",
    "    J_hist[i] = compute_cost(x_train,y_train,i,100)"
   ]
  },
  {
   "cell_type": "code",
   "execution_count": 49,
   "metadata": {},
   "outputs": [],
   "source": [
    "f_wb = calculate_model_output(w, b, x_train)"
   ]
  },
  {
   "cell_type": "markdown",
   "metadata": {},
   "source": [
    "#### Size - Prize graph"
   ]
  },
  {
   "cell_type": "code",
   "execution_count": 68,
   "metadata": {},
   "outputs": [
    {
     "data": {
      "image/png": "[encoded data removed]",
      "text/plain": [
       "<Figure size 432x288 with 1 Axes>"
      ]
     },
     "metadata": {
      "needs_background": "light"
     },
     "output_type": "display_data"
    }
   ],
   "source": [
    "w = 70\n",
    "b = 100\n",
    "def size_price_graph(w):\n",
    "    i_min = np.where(x_train == np.amin(x_train))[0][0]\n",
    "    i_max = np.where(x_train == np.amax(x_train))[0][0]\n",
    "\n",
    "    vert1 = {'x': [x_train[i_min],x_train[i_min]], 'y': [y_train[i_min],f_wb[i_min]]}\n",
    "    vert2 = {'x': [x_train[i_max],x_train[i_max]], 'y': [y_train[i_max],f_wb[i_max]]}\n",
    "    \n",
    "    plt.plot(x_train,f_wb, c='b', label='Our Prediction')\n",
    "    plt.scatter(x_train, y_train, marker='x', c='r', label='Actual Value')\n",
    "    plt.plot(vert1['x'], vert1['y'], c='m', linestyle='dashed', label='cost for point')\n",
    "    plt.plot(vert2['x'], vert2['y'], c='m', linestyle='dashed')\n",
    "\n",
    "    plt.title('Housing Prices')\n",
    "    plt.ylabel('Price (1,000s of dollars)')\n",
    "    plt.xlabel('Size (1,000 sqft)')\n",
    "    plt.legend()\n",
    "    \n",
    "    plt.show()\n",
    "size_price_graph(w)"
   ]
  },
  {
   "cell_type": "markdown",
   "metadata": {},
   "source": [
    "#### Cost - w graph"
   ]
  },
  {
   "cell_type": "code",
   "execution_count": 69,
   "metadata": {},
   "outputs": [
    {
     "data": {
      "image/png": "[encoded data removed]",
      "text/plain": [
       "<Figure size 432x288 with 1 Axes>"
      ]
     },
     "metadata": {
      "needs_background": "light"
     },
     "output_type": "display_data"
    }
   ],
   "source": [
    "w = 70\n",
    "def cost_w_graph(w):\n",
    "    c = costs[w]\n",
    "\n",
    "    vert = {'x': [w,w], 'y': [c,0]}\n",
    "    hor = {'x': [0,w], 'y': [c,c]}\n",
    "\n",
    "    plt.scatter(w, costs[w], c='r', s=200)\n",
    "    plt.plot(costs.keys(),costs.values(), c='b', label='Prediction')\n",
    "    plt.plot(hor['x'], hor['y'], c='m', linestyle='dashed')\n",
    "    plt.plot(vert['x'], vert['y'], c='m', linestyle='dashed')\n",
    "\n",
    "    plt.show()\n",
    "cost_w_graph(w)"
   ]
  },
  {
   "cell_type": "markdown",
   "metadata": {},
   "source": [
    "## Gradient Descent"
   ]
  },
  {
   "cell_type": "code",
   "execution_count": 70,
   "metadata": {},
   "outputs": [],
   "source": [
    "def compute_gradient(x, y, w, b):\n",
    "    \"\"\"\n",
    "    Computes the gradient for linear regression\n",
    " \n",
    "    Args:\n",
    "        x (ndarray): Shape (m,) variable such as house size\n",
    "        y (ndarray): Shape (m,) target value\n",
    "        w (scalar):             parameter of the model\n",
    "        b (scalar):             parameter of the model\n",
    "    Returns:\n",
    "        dj_dw (scalar): The gradient of the cost w.r.t. the parameter w.\n",
    "        dj_db (scalar): The gradient of the cost w.r.t. the parameter w.\n",
    "    \"\"\"\n",
    "    m = len(x)\n",
    "    dj_dw = 0\n",
    "    dj_db = 0\n",
    "\n",
    "    for i in range(m):\n",
    "        ## calculate prediction for this example\n",
    "        f_wb_i  = w * x[i] + b\n",
    "        ## calculate partial derivatives of cost for this example\n",
    "        dj_dw_i = (f_wb_i - y[i]) * x[i]\n",
    "        dj_db_i = f_wb_i - y[i]\n",
    "        ## add to totals\n",
    "        dj_dw   = dj_dw + dj_dw_i\n",
    "        dj_db   = dj_db + dj_db_i\n",
    "    \n",
    "    # divide by number of examples\n",
    "    dj_db = (1 / m) * dj_db\n",
    "    dj_dw = (1 / m) * dj_dw\n",
    "\n",
    "    return dj_db, dj_dw"
   ]
  },
  {
   "cell_type": "code",
   "execution_count": null,
   "metadata": {},
   "outputs": [],
   "source": []
  }
 ],
 "metadata": {
  "kernelspec": {
   "display_name": "Python 3.10.2 ('venv': venv)",
   "language": "python",
   "name": "python3"
  },
  "language_info": {
   "codemirror_mode": {
    "name": "ipython",
    "version": 3
   },
   "file_extension": ".py",
   "mimetype": "text/x-python",
   "name": "python",
   "nbconvert_exporter": "python",
   "pygments_lexer": "ipython3",
   "version": "3.10.2"
  },
  "orig_nbformat": 4,
  "vscode": {
   "interpreter": {
    "hash": "7bb24251c19abd6c4b2ce584a08bf35f4dbea23d2a92290c6d4e12894ac26d25"
   }
  }
 },
 "nbformat": 4,
 "nbformat_minor": 2
}
